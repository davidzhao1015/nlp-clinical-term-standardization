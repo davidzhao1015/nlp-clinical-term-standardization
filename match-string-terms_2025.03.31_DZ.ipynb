{
 "cells": [
  {
   "cell_type": "markdown",
   "metadata": {},
   "source": [
    "# NLP-based Clinical Terms Standardization (Proof of Concept)\n",
    "\n",
    "This notebook demonstrates how to standardize autoimmune encephalitis (AIE) subtype names using NLP techniques:\n",
    "- TF-IDF Cosine Similarity\n",
    "- Fuzzy Matching\n",
    "- Semantic Similarity via spaCy\n",
    "\n",
    "You can run this notebook without installing anything using [Binder](https://mybinder.org).\n",
    "[![Binder](https://mybinder.org/badge_logo.svg)](https://mybinder.org/v2/gh/davidzhao1015/nlp-clinical-term-standardization/edit/main/match-string-terms_2025.03.31_DZ.ipynb)"
   ]
  },
  {
   "cell_type": "code",
   "execution_count": 56,
   "metadata": {},
   "outputs": [
    {
     "name": "stdout",
     "output_type": "stream",
     "text": [
      "Collecting en-core-web-md==3.8.0\n",
      "  Downloading https://github.com/explosion/spacy-models/releases/download/en_core_web_md-3.8.0/en_core_web_md-3.8.0-py3-none-any.whl (33.5 MB)\n",
      "\u001b[2K     \u001b[90m━━━━━━━━━━━━━━━━━━━━━━━━━━━━━━━━━━━━━━━━\u001b[0m \u001b[32m33.5/33.5 MB\u001b[0m \u001b[31m25.3 MB/s\u001b[0m eta \u001b[36m0:00:00\u001b[0m00:01\u001b[0m00:01\u001b[0m\n",
      "\u001b[?25h\u001b[38;5;2m✔ Download and installation successful\u001b[0m\n",
      "You can now load the package via spacy.load('en_core_web_md')\n"
     ]
    }
   ],
   "source": [
    "# Install dependencies if running on Google Colab or Binder\n",
    "!pip install -q spacy fuzzywuzzy scikit-learn\n",
    "!python -m spacy download en_core_web_md"
   ]
  },
  {
   "cell_type": "markdown",
   "metadata": {},
   "source": [
    "## Load Libraries"
   ]
  },
  {
   "cell_type": "code",
   "execution_count": 57,
   "metadata": {},
   "outputs": [],
   "source": [
    "import pandas as pd\n",
    "from collections import defaultdict\n",
    "\n",
    "from sklearn.feature_extraction.text import TfidfVectorizer # Term Frequency-Inverse Document Frequency (TF-IDF)\n",
    "from sklearn.feature_extraction.text import CountVectorizer # CountVectorizer\n",
    "from sklearn.metrics.pairwise import cosine_similarity # Cosine similarity\n",
    "\n",
    "from fuzzywuzzy import fuzz\n",
    "from fuzzywuzzy import process\n",
    "\n",
    "import spacy"
   ]
  },
  {
   "cell_type": "markdown",
   "metadata": {},
   "source": [
    "## Create a custom function to standardize clinical terms\n",
    "\n",
    "The custom function `standardize_terms` takes a list of clinical terms and standardizes them using a predefined mapping. The mapping is defined in the `term_mapping` dictionary, which maps common clinical terms to their standardized forms.\n",
    "\n",
    "The custom function is powered by the `cosine_similarity` function, and `fuzzywuzzy` library and `spacy` library to implement the text minining techniques. The `cosine_similarity` function is used to calculate the similarity between the input term and the standardized terms in the mapping. The `fuzzywuzzy` library is used to perform fuzzy matching, and the `spacy` library is used for tokenization and lemmatization of the terms."
   ]
  },
  {
   "cell_type": "code",
   "execution_count": 58,
   "metadata": {},
   "outputs": [],
   "source": [
    "def standardize_clinical_terms(reported_term, std_term_list):\n",
    "    \"\"\"\n",
    "    Standardize a clinical term based on TF-IDF similarity, fuzzy string matching, and semantic similarity.\n",
    "\n",
    "    Parameters:\n",
    "        reported_term (str): The clinical term to standardize.\n",
    "        std_term_list (list): A list of standard terms.\n",
    "\n",
    "    Returns:\n",
    "        Tuple: (standardized_term, number_of_matching_methods)\n",
    "    \"\"\"\n",
    "    # Check input types\n",
    "    if not isinstance(reported_term, str):\n",
    "        raise ValueError(\"reported_term must be a string.\")\n",
    "    \n",
    "    best_match_collection = defaultdict(list)\n",
    "\n",
    "    # --- Cosine Similarity (TF-IDF) ---\n",
    "    all_terms = std_term_list + [reported_term]\n",
    "    tfidf_matrix = TfidfVectorizer().fit_transform(all_terms)\n",
    "    similarity_matrix = cosine_similarity(tfidf_matrix[:-1], tfidf_matrix[-1:])\n",
    "    max_score = similarity_matrix.max()\n",
    "    cosine_score = max_score * 100\n",
    "    if max_score >= 0.7:\n",
    "        best_match_idx = similarity_matrix.argmax()\n",
    "        best_match = std_term_list[best_match_idx]\n",
    "    else:\n",
    "        best_match = reported_term\n",
    "    best_match_collection[best_match].append(cosine_score)\n",
    "\n",
    "    # --- Fuzzy Matching ---\n",
    "    best_match_fuzzy, fuzzy_score = process.extractOne(reported_term, std_term_list)\n",
    "    if fuzzy_score >= 80:\n",
    "        best_match_collection[best_match_fuzzy].append(fuzzy_score)\n",
    "    else:\n",
    "        best_match_collection[reported_term].append(fuzzy_score)\n",
    "\n",
    "    # --- Semantic Similarity ---\n",
    "    nlp = spacy.load(\"en_core_web_md\") # Load the medium-sized English model\n",
    "\n",
    "    reported_doc = nlp(reported_term)\n",
    "    best_match_semantic = reported_term\n",
    "    best_score = -1\n",
    "    for std_term in std_term_list:\n",
    "        std_doc = nlp(std_term)\n",
    "        if reported_doc.vector_norm == 0 or std_doc.vector_norm == 0:\n",
    "            continue\n",
    "        score = reported_doc.similarity(std_doc)\n",
    "        if score > best_score:\n",
    "            best_score = score\n",
    "            best_match_semantic = std_term\n",
    "    semantic_score = best_score * 100\n",
    "    if best_score >= 0.7:\n",
    "        best_match_collection[best_match_semantic].append(semantic_score)\n",
    "    else:\n",
    "        best_match_collection[reported_term].append(semantic_score)\n",
    "\n",
    "    # --- Format Output ---\n",
    "    best_match_df = pd.DataFrame([\n",
    "        {\"Standardized\": k, \"Score\": sum(v)/len(v), \"Count\": len(v)}\n",
    "        for k, v in best_match_collection.items()\n",
    "    ])\n",
    "    best_match_df.sort_values(by=\"Score\", ascending=False, inplace=True)\n",
    "\n",
    "    return best_match_df.iloc[0][\"Standardized\"], best_match_df.iloc[0]['Count']"
   ]
  },
  {
   "cell_type": "markdown",
   "metadata": {},
   "source": [
    "## Test Case: Standardizing AIE subtypes"
   ]
  },
  {
   "cell_type": "code",
   "execution_count": 59,
   "metadata": {},
   "outputs": [
    {
     "name": "stdout",
     "output_type": "stream",
     "text": [
      "                  reported_term\n",
      "0       Anti-NMDAR Encephalitis\n",
      "1            NMDAR Encephalitis\n",
      "2                         NMDAR\n",
      "3                        NMDA-R\n",
      "4  LGI1 Autoimmune Encephalitis\n",
      "5                        Caspr2\n"
     ]
    }
   ],
   "source": [
    "# Reported AIE subtypes\n",
    "subtypes_reported = pd.DataFrame({\"reported_term\": [\"Anti-NMDAR Encephalitis\",\n",
    "                                                  \"NMDAR Encephalitis\",\n",
    "                                                  \"NMDAR\",\n",
    "                                                  \"NMDA-R\",\n",
    "                                                  \"LGI1 Autoimmune Encephalitis\",\n",
    "                                                  \"Caspr2\"]})  \n",
    "\n",
    "print(subtypes_reported)                                             \n"
   ]
  },
  {
   "cell_type": "code",
   "execution_count": 60,
   "metadata": {},
   "outputs": [],
   "source": [
    "# Standard AIE subtypes list\n",
    "subtype_std = [\n",
    "    \"NMDAR\",\n",
    "    \"LGI1\",\n",
    "    \"CASPR2\",\n",
    "    \"AMPAR\",\n",
    "    \"GABAAR\",\n",
    "    \"GABABR\",\n",
    "    \"DPPX\",\n",
    "    \"Dopamine-2R\",\n",
    "    \"mGluR5\",\n",
    "    \"Neurexin-3α\",\n",
    "    \"IgLON5\",\n",
    "    \"P/Q type VGCC\",\n",
    "    \"mGluR1\",\n",
    "    \"GlyR\",\n",
    "    \"SOX-1\"\n",
    "]"
   ]
  },
  {
   "cell_type": "code",
   "execution_count": 61,
   "metadata": {},
   "outputs": [],
   "source": [
    "# Standardize the reported AIE subtypes\n",
    "subtypes_reported[['standard_term', 'match_type']] = subtypes_reported['reported_term'].apply(lambda x: pd.Series(standardize_clinical_terms(x, std_term_list=subtype_std)))"
   ]
  },
  {
   "cell_type": "code",
   "execution_count": 62,
   "metadata": {},
   "outputs": [
    {
     "data": {
      "text/html": [
       "<div>\n",
       "<style scoped>\n",
       "    .dataframe tbody tr th:only-of-type {\n",
       "        vertical-align: middle;\n",
       "    }\n",
       "\n",
       "    .dataframe tbody tr th {\n",
       "        vertical-align: top;\n",
       "    }\n",
       "\n",
       "    .dataframe thead th {\n",
       "        text-align: right;\n",
       "    }\n",
       "</style>\n",
       "<table border=\"1\" class=\"dataframe\">\n",
       "  <thead>\n",
       "    <tr style=\"text-align: right;\">\n",
       "      <th></th>\n",
       "      <th>reported_term</th>\n",
       "      <th>standard_term</th>\n",
       "      <th>match_type</th>\n",
       "    </tr>\n",
       "  </thead>\n",
       "  <tbody>\n",
       "    <tr>\n",
       "      <th>0</th>\n",
       "      <td>Anti-NMDAR Encephalitis</td>\n",
       "      <td>NMDAR</td>\n",
       "      <td>1</td>\n",
       "    </tr>\n",
       "    <tr>\n",
       "      <th>1</th>\n",
       "      <td>NMDAR Encephalitis</td>\n",
       "      <td>NMDAR</td>\n",
       "      <td>1</td>\n",
       "    </tr>\n",
       "    <tr>\n",
       "      <th>2</th>\n",
       "      <td>NMDAR</td>\n",
       "      <td>NMDAR</td>\n",
       "      <td>3</td>\n",
       "    </tr>\n",
       "    <tr>\n",
       "      <th>3</th>\n",
       "      <td>NMDA-R</td>\n",
       "      <td>NMDAR</td>\n",
       "      <td>1</td>\n",
       "    </tr>\n",
       "    <tr>\n",
       "      <th>4</th>\n",
       "      <td>LGI1 Autoimmune Encephalitis</td>\n",
       "      <td>LGI1</td>\n",
       "      <td>1</td>\n",
       "    </tr>\n",
       "    <tr>\n",
       "      <th>5</th>\n",
       "      <td>Caspr2</td>\n",
       "      <td>CASPR2</td>\n",
       "      <td>2</td>\n",
       "    </tr>\n",
       "  </tbody>\n",
       "</table>\n",
       "</div>"
      ],
      "text/plain": [
       "                  reported_term standard_term  match_type\n",
       "0       Anti-NMDAR Encephalitis         NMDAR           1\n",
       "1            NMDAR Encephalitis         NMDAR           1\n",
       "2                         NMDAR         NMDAR           3\n",
       "3                        NMDA-R         NMDAR           1\n",
       "4  LGI1 Autoimmune Encephalitis          LGI1           1\n",
       "5                        Caspr2        CASPR2           2"
      ]
     },
     "execution_count": 62,
     "metadata": {},
     "output_type": "execute_result"
    }
   ],
   "source": [
    "subtypes_reported.head(10)"
   ]
  },
  {
   "cell_type": "markdown",
   "metadata": {},
   "source": [
    "The test case demonstrates the standardization of AIE subtypes. The input terms are a list of clinical terms related to AIE subtypes, and the expected output is a standardized list of terms."
   ]
  }
 ],
 "metadata": {
  "kernelspec": {
   "display_name": "base",
   "language": "python",
   "name": "python3"
  },
  "language_info": {
   "codemirror_mode": {
    "name": "ipython",
    "version": 3
   },
   "file_extension": ".py",
   "mimetype": "text/x-python",
   "name": "python",
   "nbconvert_exporter": "python",
   "pygments_lexer": "ipython3",
   "version": "3.12.2"
  }
 },
 "nbformat": 4,
 "nbformat_minor": 2
}
